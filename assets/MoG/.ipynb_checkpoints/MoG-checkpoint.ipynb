{
 "cells": [
  {
   "cell_type": "code",
   "execution_count": 579,
   "metadata": {
    "collapsed": true
   },
   "outputs": [],
   "source": [
    "%matplotlib inline \n",
    "import random\n",
    "import numpy as np\n",
    "import matplotlib.pyplot as plt\n",
    "import pandas as pd\n",
    "from matplotlib.patches import Ellipse\n",
    "import scipy as sc\n",
    "from scipy import random, linalg, stats, special"
   ]
  },
  {
   "cell_type": "markdown",
   "metadata": {},
   "source": [
    "- 일반적으로 label의 비율이 많이 차이가 나는 데이터에 이상치 탐지 기법이 적용됨\n",
    "- 아래의 임의로 생성된 예제데이터에 mixture of gaussian density estimation을 적용"
   ]
  },
  {
   "cell_type": "code",
   "execution_count": 988,
   "metadata": {
    "collapsed": true,
    "scrolled": true
   },
   "outputs": [],
   "source": [
    "data=pd.read_csv('MoGDE.csv')"
   ]
  },
  {
   "cell_type": "code",
   "execution_count": 989,
   "metadata": {
    "scrolled": true
   },
   "outputs": [
    {
     "data": {
      "text/html": [
       "<div>\n",
       "<style>\n",
       "    .dataframe thead tr:only-child th {\n",
       "        text-align: right;\n",
       "    }\n",
       "\n",
       "    .dataframe thead th {\n",
       "        text-align: left;\n",
       "    }\n",
       "\n",
       "    .dataframe tbody tr th {\n",
       "        vertical-align: top;\n",
       "    }\n",
       "</style>\n",
       "<table border=\"1\" class=\"dataframe\">\n",
       "  <thead>\n",
       "    <tr style=\"text-align: right;\">\n",
       "      <th></th>\n",
       "      <th>x1</th>\n",
       "      <th>x2</th>\n",
       "      <th>label</th>\n",
       "    </tr>\n",
       "  </thead>\n",
       "  <tbody>\n",
       "    <tr>\n",
       "      <th>0</th>\n",
       "      <td>5.4</td>\n",
       "      <td>3.9</td>\n",
       "      <td>abnormal</td>\n",
       "    </tr>\n",
       "    <tr>\n",
       "      <th>1</th>\n",
       "      <td>6.6</td>\n",
       "      <td>2.9</td>\n",
       "      <td>normal</td>\n",
       "    </tr>\n",
       "    <tr>\n",
       "      <th>2</th>\n",
       "      <td>4.6</td>\n",
       "      <td>3.1</td>\n",
       "      <td>normal</td>\n",
       "    </tr>\n",
       "    <tr>\n",
       "      <th>3</th>\n",
       "      <td>6.3</td>\n",
       "      <td>2.5</td>\n",
       "      <td>normal</td>\n",
       "    </tr>\n",
       "    <tr>\n",
       "      <th>4</th>\n",
       "      <td>6.7</td>\n",
       "      <td>3.3</td>\n",
       "      <td>normal</td>\n",
       "    </tr>\n",
       "    <tr>\n",
       "      <th>5</th>\n",
       "      <td>4.6</td>\n",
       "      <td>3.4</td>\n",
       "      <td>normal</td>\n",
       "    </tr>\n",
       "    <tr>\n",
       "      <th>6</th>\n",
       "      <td>4.9</td>\n",
       "      <td>3.1</td>\n",
       "      <td>normal</td>\n",
       "    </tr>\n",
       "    <tr>\n",
       "      <th>7</th>\n",
       "      <td>6.3</td>\n",
       "      <td>2.3</td>\n",
       "      <td>normal</td>\n",
       "    </tr>\n",
       "    <tr>\n",
       "      <th>8</th>\n",
       "      <td>6.5</td>\n",
       "      <td>3.0</td>\n",
       "      <td>normal</td>\n",
       "    </tr>\n",
       "    <tr>\n",
       "      <th>9</th>\n",
       "      <td>6.4</td>\n",
       "      <td>2.9</td>\n",
       "      <td>normal</td>\n",
       "    </tr>\n",
       "  </tbody>\n",
       "</table>\n",
       "</div>"
      ],
      "text/plain": [
       "    x1   x2     label\n",
       "0  5.4  3.9  abnormal\n",
       "1  6.6  2.9    normal\n",
       "2  4.6  3.1    normal\n",
       "3  6.3  2.5    normal\n",
       "4  6.7  3.3    normal\n",
       "5  4.6  3.4    normal\n",
       "6  4.9  3.1    normal\n",
       "7  6.3  2.3    normal\n",
       "8  6.5  3.0    normal\n",
       "9  6.4  2.9    normal"
      ]
     },
     "execution_count": 989,
     "metadata": {},
     "output_type": "execute_result"
    }
   ],
   "source": [
    "data"
   ]
  },
  {
   "cell_type": "code",
   "execution_count": 990,
   "metadata": {},
   "outputs": [
    {
     "data": {
      "text/plain": [
       "(10, 3)"
      ]
     },
     "execution_count": 990,
     "metadata": {},
     "output_type": "execute_result"
    }
   ],
   "source": [
    "data.shape"
   ]
  },
  {
   "cell_type": "code",
   "execution_count": 991,
   "metadata": {
    "collapsed": true
   },
   "outputs": [],
   "source": [
    "colordict = {'abnormal': 'red', 'normal': 'blue'}\n",
    "color = list(colordict[Class] for Class in data.label)"
   ]
  },
  {
   "cell_type": "code",
   "execution_count": 992,
   "metadata": {
    "scrolled": false
   },
   "outputs": [
    {
     "data": {
      "text/plain": [
       "<matplotlib.collections.PathCollection at 0x11699b828>"
      ]
     },
     "execution_count": 992,
     "metadata": {},
     "output_type": "execute_result"
    },
    {
     "data": {
      "image/png": "[encoded data removed]",
      "text/plain": [
       "<matplotlib.figure.Figure at 0x116c118d0>"
      ]
     },
     "metadata": {},
     "output_type": "display_data"
    }
   ],
   "source": [
    "plt.scatter(data.iloc[:,0],data.iloc[:,1],c=color)"
   ]
  },
  {
   "cell_type": "code",
   "execution_count": 994,
   "metadata": {
    "collapsed": true
   },
   "outputs": [],
   "source": [
    "X = data.drop('label',axis=1)\n",
    "# used only normal\n",
    "x = X.iloc[list(y=='normal'),]\n",
    "y = data['label']"
   ]
  },
  {
   "cell_type": "code",
   "execution_count": 995,
   "metadata": {
    "collapsed": true
   },
   "outputs": [],
   "source": [
    "N_var = x.shape[1]  # Variable의 갯수: 2\n",
    "N_gaussian = 3      # 몇개의 가우시간 분포를 사용할 것인가?\n",
    "N = x.shape[0]      # 데이터의 관측치 갯수"
   ]
  },
  {
   "cell_type": "markdown",
   "metadata": {},
   "source": [
    "- 알고자 하는 파마리터의 수는 총 3개 $\\mu, \\Sigma, w$를 초기화"
   ]
  },
  {
   "cell_type": "code",
   "execution_count": 996,
   "metadata": {
    "scrolled": false
   },
   "outputs": [
    {
     "name": "stdout",
     "output_type": "stream",
     "text": [
      "initial mu shape = (3, 2)\n",
      "initial cov shape = (3, 2, 9)\n",
      "initial weight shape = (2,)\n"
     ]
    }
   ],
   "source": [
    "# EM step을 위한 초기 Mu, Cov 값 크기 설정\n",
    "_mu = np.empty([N_gaussian, N_var])\n",
    "_cov = np.empty([N_gaussian, N_var, N])\n",
    "\n",
    "\n",
    "print(\"initial mu shape =\" ,_mu.shape)\n",
    "print(\"initial cov shape =\", _cov.shape)\n",
    "print(\"initial weight shape =\", _w.shape)"
   ]
  },
  {
   "cell_type": "markdown",
   "metadata": {},
   "source": [
    "# 초기화 Trick"
   ]
  },
  {
   "cell_type": "markdown",
   "metadata": {},
   "source": [
    "### $w$ 초기화"
   ]
  },
  {
   "cell_type": "code",
   "execution_count": 997,
   "metadata": {
    "collapsed": true
   },
   "outputs": [],
   "source": [
    "# 각 gaussian 분포의 가중치, 어떤 분포를 더 중요깊게 봐야하나? \n",
    "_w = np.repeat(1.0/N_gaussian,N_gaussian)"
   ]
  },
  {
   "cell_type": "code",
   "execution_count": 998,
   "metadata": {},
   "outputs": [
    {
     "data": {
      "text/plain": [
       "array([ 0.33333333,  0.33333333,  0.33333333])"
      ]
     },
     "execution_count": 998,
     "metadata": {},
     "output_type": "execute_result"
    }
   ],
   "source": [
    "# initial w\n",
    "_w"
   ]
  },
  {
   "cell_type": "markdown",
   "metadata": {},
   "source": [
    "### $\\mu$ 초기화"
   ]
  },
  {
   "cell_type": "markdown",
   "metadata": {},
   "source": [
    "- 데이터가 가지는 **최대값**을 적용해서 적절한 $\\mu$로 초기화"
   ]
  },
  {
   "cell_type": "code",
   "execution_count": 999,
   "metadata": {
    "collapsed": true
   },
   "outputs": [],
   "source": [
    "# starting values\n",
    "_mu = np.empty([N_gaussian, N_var])\n",
    "for g in range(N_gaussian):\n",
    "    _mu[g, :] = np.random.random(N_var) * np.max(x, axis=0)"
   ]
  },
  {
   "cell_type": "code",
   "execution_count": 1000,
   "metadata": {
    "scrolled": true
   },
   "outputs": [
    {
     "data": {
      "text/plain": [
       "array([[ 6.27488988,  1.22521044],\n",
       "       [ 5.6468563 ,  2.90363138],\n",
       "       [ 1.7517176 ,  1.5095235 ]])"
      ]
     },
     "execution_count": 1000,
     "metadata": {},
     "output_type": "execute_result"
    }
   ],
   "source": [
    "# initial mu\n",
    "_mu"
   ]
  },
  {
   "cell_type": "markdown",
   "metadata": {},
   "source": [
    "### $\\Sigma$ 초기화"
   ]
  },
  {
   "cell_type": "markdown",
   "metadata": {},
   "source": [
    "- 임의로 생성된 행렬이 역행렬이 존재하지 않는 행렬로 초기화 될 수 있음\n",
    "- 따라서 eigen value를 더해서 n*n 의 positive semi matrix를 만들어 내는 함수로 초기화\n",
    "- 수렴을 더 빨리하기 위해서 variance를 임의로 추가 "
   ]
  },
  {
   "cell_type": "code",
   "execution_count": 1001,
   "metadata": {
    "collapsed": true
   },
   "outputs": [],
   "source": [
    "def PSM_init(n):\n",
    "    M = np.matrix(np.random.rand(n,n))\n",
    "    M = (M + M.T)/2\n",
    "    M = M + np.eye(n)\n",
    "    return M # variance를 임의로 조정 "
   ]
  },
  {
   "cell_type": "code",
   "execution_count": 1002,
   "metadata": {
    "scrolled": true
   },
   "outputs": [
    {
     "data": {
      "text/plain": [
       "array([[[ 1.4940488 ,  0.80513997],\n",
       "        [ 0.80513997,  1.06013646]],\n",
       "\n",
       "       [[ 1.08120598,  0.43578471],\n",
       "        [ 0.43578471,  1.02687712]],\n",
       "\n",
       "       [[ 1.52704504,  0.62869138],\n",
       "        [ 0.62869138,  1.30528722]]])"
      ]
     },
     "execution_count": 1002,
     "metadata": {},
     "output_type": "execute_result"
    }
   ],
   "source": [
    "_cov = np.array([PSM_init(N_var) for i in range(0,N_gaussian)])\n",
    "\n",
    "# 3개 가우시안과 2x2 covariance\n",
    "_cov"
   ]
  },
  {
   "cell_type": "markdown",
   "metadata": {},
   "source": [
    "# EM Algorithm"
   ]
  },
  {
   "cell_type": "code",
   "execution_count": 1003,
   "metadata": {
    "scrolled": false
   },
   "outputs": [
    {
     "data": {
      "text/html": [
       "<div>\n",
       "<style>\n",
       "    .dataframe thead tr:only-child th {\n",
       "        text-align: right;\n",
       "    }\n",
       "\n",
       "    .dataframe thead th {\n",
       "        text-align: left;\n",
       "    }\n",
       "\n",
       "    .dataframe tbody tr th {\n",
       "        vertical-align: top;\n",
       "    }\n",
       "</style>\n",
       "<table border=\"1\" class=\"dataframe\">\n",
       "  <thead>\n",
       "    <tr style=\"text-align: right;\">\n",
       "      <th></th>\n",
       "      <th>gaussian01</th>\n",
       "      <th>gaussian02</th>\n",
       "      <th>gaussian03</th>\n",
       "    </tr>\n",
       "  </thead>\n",
       "  <tbody>\n",
       "    <tr>\n",
       "      <th>0</th>\n",
       "      <td>0.208985</td>\n",
       "      <td>0.790635</td>\n",
       "      <td>0.000380</td>\n",
       "    </tr>\n",
       "    <tr>\n",
       "      <th>1</th>\n",
       "      <td>0.001545</td>\n",
       "      <td>0.906164</td>\n",
       "      <td>0.092292</td>\n",
       "    </tr>\n",
       "    <tr>\n",
       "      <th>2</th>\n",
       "      <td>0.305558</td>\n",
       "      <td>0.693785</td>\n",
       "      <td>0.000657</td>\n",
       "    </tr>\n",
       "    <tr>\n",
       "      <th>3</th>\n",
       "      <td>0.093164</td>\n",
       "      <td>0.906468</td>\n",
       "      <td>0.000368</td>\n",
       "    </tr>\n",
       "    <tr>\n",
       "      <th>4</th>\n",
       "      <td>0.000493</td>\n",
       "      <td>0.897656</td>\n",
       "      <td>0.101851</td>\n",
       "    </tr>\n",
       "    <tr>\n",
       "      <th>5</th>\n",
       "      <td>0.003199</td>\n",
       "      <td>0.956208</td>\n",
       "      <td>0.040594</td>\n",
       "    </tr>\n",
       "    <tr>\n",
       "      <th>6</th>\n",
       "      <td>0.432928</td>\n",
       "      <td>0.566540</td>\n",
       "      <td>0.000532</td>\n",
       "    </tr>\n",
       "    <tr>\n",
       "      <th>7</th>\n",
       "      <td>0.137516</td>\n",
       "      <td>0.861951</td>\n",
       "      <td>0.000533</td>\n",
       "    </tr>\n",
       "    <tr>\n",
       "      <th>8</th>\n",
       "      <td>0.146879</td>\n",
       "      <td>0.852461</td>\n",
       "      <td>0.000660</td>\n",
       "    </tr>\n",
       "  </tbody>\n",
       "</table>\n",
       "</div>"
      ],
      "text/plain": [
       "   gaussian01  gaussian02  gaussian03\n",
       "0    0.208985    0.790635    0.000380\n",
       "1    0.001545    0.906164    0.092292\n",
       "2    0.305558    0.693785    0.000657\n",
       "3    0.093164    0.906468    0.000368\n",
       "4    0.000493    0.897656    0.101851\n",
       "5    0.003199    0.956208    0.040594\n",
       "6    0.432928    0.566540    0.000532\n",
       "7    0.137516    0.861951    0.000533\n",
       "8    0.146879    0.852461    0.000660"
      ]
     },
     "execution_count": 1003,
     "metadata": {},
     "output_type": "execute_result"
    }
   ],
   "source": [
    "#EM Algorithm: Expectation\n",
    "def Estep(x, w, mu, cov):\n",
    "    # 괸측치 x 가우시안의 수 = (10,3)\n",
    "    # wj*p(xi)를 저장\n",
    "    w_x = np.zeros((x.shape[0], mu.shape[0]))\n",
    "    # 관측치 갯수마다 적용\n",
    "    for i in range(x.shape[0]):\n",
    "        wj_xi = np.zeros(mu.shape[0]) # n gaussian\n",
    "\n",
    "        for g in range(mu.shape[0]):\n",
    "            # wj*p(xi)\n",
    "            wj_xi[g] = w[g] * sc.stats.multivariate_normal.pdf(x.iloc[i, :], mu[g, :], cov[g, :, :])\n",
    "        for g in range(wj_xi.shape[0]):\n",
    "            # nomalized\n",
    "            w_x[i, g] = wj_xi[g] / np.sum(wj_xi)\n",
    "\n",
    "    return w_x\n",
    "\n",
    "w_x = Estep(x, _w, _mu, _cov)\n",
    "pd.DataFrame(w_x,columns=['gaussian01','gaussian02','gaussian03'])"
   ]
  },
  {
   "cell_type": "code",
   "execution_count": 1004,
   "metadata": {
    "code_folding": []
   },
   "outputs": [
    {
     "name": "stdout",
     "output_type": "stream",
     "text": [
      "new_w= [ 0.14780731  0.82576305  0.02642964]\n",
      "new_mu= [[ 6.40088899  2.65210406]\n",
      " [ 5.82262742  2.9878173 ]\n",
      " [ 4.67539539  3.22421922]]\n",
      "new_cov= [[[ 0.02954544  0.03689953]\n",
      "  [ 0.03689953  0.1049337 ]]\n",
      "\n",
      " [[ 0.76061528 -0.11639223]\n",
      "  [-0.11639223  0.09556273]]\n",
      "\n",
      " [[ 0.05442243 -0.01663954]\n",
      "  [-0.01663954  0.02579161]]]\n"
     ]
    }
   ],
   "source": [
    "#EM Algorithm: Maximazation\n",
    "def Mstep(w_x, x, mu, cov):\n",
    "\n",
    "    N = x.shape[0]\n",
    "\n",
    "    # the weigths update\n",
    "    new_w = np.sum(w_x, axis=0) / N\n",
    "     \n",
    "    # (N, N_gaussian, N_var)\n",
    "    df_mu = np.zeros((N, mu.shape[0], mu.shape[1]))\n",
    "    # (N, N_gaussian, nxn covariance)\n",
    "    df_cov = np.zeros((N, cov.shape[0], cov.shape[1], cov.shape[2]))\n",
    "\n",
    "    # 새롭게 업데이트 될 mu, Sigma\n",
    "    new_mu = np.zeros((mu.shape[0], mu.shape[1]))\n",
    "    new_cov = np.zeros((cov.shape[0], cov.shape[1], cov.shape[2]))\n",
    "\n",
    "# mean\n",
    "    for i in range(N):\n",
    "        # (N_gaussian x 1) x (1 x N_var) = (N_gaussian, N_var)\n",
    "        df_mu[i, :, :] = np.outer(w_x[i, :], x.iloc[i, :])\n",
    "    \n",
    "    for g in range(N_gaussian):\n",
    "        new_mu[g, :] = (1 / np.sum(w_x, axis=0)[g]) * np.sum(df_mu, axis=0)[g, :]\n",
    "\n",
    "# sd\n",
    "    for i in range(N):\n",
    "        for g in range(N_gaussian):\n",
    "            df_cov[i, g, :, :] = w_x[i, g] * np.outer((x.iloc[i, :] - new_mu[g, :]),\n",
    "                                                                (x.iloc[i, :] - new_mu[g, :]))\n",
    "            \n",
    "    for g in range(N_gaussian):\n",
    "        new_cov[g, :, :] = (1 / np.sum(w_x, axis=0)[g]) * np.sum(df_cov, axis=0)[g, :, :]\n",
    "\n",
    "    return new_w, new_mu, new_cov\n",
    "\n",
    "new_w, new_mu, new_cov = Mstep(w_x, x, _mu, _cov)\n",
    "print('new_w=',new_w)\n",
    "print('new_mu=',new_mu)\n",
    "print('new_cov=',new_cov)"
   ]
  },
  {
   "cell_type": "markdown",
   "metadata": {},
   "source": [
    "# 재귀적 학습 반복"
   ]
  },
  {
   "cell_type": "markdown",
   "metadata": {},
   "source": [
    "- 위에서 사용된 Estep과 Mstep을 사용해서 재귀적으로 반복"
   ]
  },
  {
   "cell_type": "code",
   "execution_count": 1045,
   "metadata": {
    "collapsed": true
   },
   "outputs": [],
   "source": [
    "# initialization\n",
    "iteration = 100\n",
    "N_gaussian = 2\n",
    "\n",
    "_w = np.repeat(1.0/N_gaussian,N_gaussian)\n",
    "\n",
    "_cov = np.array([PSM_init(N_var)/3 for i in range(0,N_gaussian)])\n",
    "\n",
    "_mu = np.empty([N_gaussian, N_var])\n",
    "\n",
    "for g in range(N_gaussian):\n",
    "    _mu[g, :] = np.random.random(N_var) * np.max(x, axis=0)"
   ]
  },
  {
   "cell_type": "code",
   "execution_count": 1046,
   "metadata": {
    "code_folding": [],
    "scrolled": false
   },
   "outputs": [
    {
     "name": "stdout",
     "output_type": "stream",
     "text": [
      "0 th logL= -13.1787450112\n",
      "20 th logL= -1.14361054866\n",
      "40 th logL= -1.14361054866\n",
      "60 th logL= -1.14361054866\n",
      "80 th logL= -1.14361054866\n"
     ]
    }
   ],
   "source": [
    "\n",
    "for k in range(iteration):\n",
    "\n",
    "# E step\n",
    "    w_x = Estep(x, _w, _mu, _cov) # 주어진 모수로 w*p(x)를 계산한\n",
    "\n",
    "# M step\n",
    "    new_w, new_mu, new_cov = Mstep(w_x, x, _mu, _cov)\n",
    "\n",
    "# log likelihood를 계산 \n",
    "    logL_i = np.zeros((x.shape[0]))\n",
    "\n",
    "    for i in range(x.shape[0]):\n",
    "\n",
    "        L = np.zeros(N_gaussian)\n",
    "\n",
    "        for g in range(N_gaussian):\n",
    "            L[g] = new_w[g] * sc.stats.multivariate_normal.pdf(x.iloc[i, :], new_mu[g, :],\n",
    "                                                                        new_cov[g, :, :])\n",
    "\n",
    "        logL_i[i] = np.log(np.sum(L))\n",
    "        \n",
    "    if(k%20==0):print(k,'th logL=',logL)\n",
    "    \n",
    "    logL = np.sum(logL_i)\n",
    "    "
   ]
  },
  {
   "cell_type": "code",
   "execution_count": 1047,
   "metadata": {},
   "outputs": [
    {
     "name": "stdout",
     "output_type": "stream",
     "text": [
      "mu= [[ 6.4532756   2.81312867]\n",
      " [ 4.77615462  3.19581029]]\n",
      "sigma= [[[ 0.04073198  0.03993574]\n",
      "  [ 0.03993574  0.1076881 ]]\n",
      "\n",
      " [[ 0.15831454 -0.01789133]\n",
      "  [-0.01789133  0.02218995]]]\n",
      "weight= [ 0.65685372  0.34314628]\n"
     ]
    }
   ],
   "source": [
    "print (\"mu=\", new_mu)\n",
    "print(\"sigma=\",new_cov)\n",
    "print(\"weight=\",new_w)"
   ]
  },
  {
   "cell_type": "code",
   "execution_count": 1049,
   "metadata": {
    "scrolled": false
   },
   "outputs": [
    {
     "data": {
      "image/png": "[encoded data removed]",
      "text/plain": [
       "<matplotlib.figure.Figure at 0x116e31c88>"
      ]
     },
     "metadata": {},
     "output_type": "display_data"
    }
   ],
   "source": [
    "# visualization\n",
    "\n",
    "plotsize = 8\n",
    "sizeMean = 30\n",
    "text_size = 16\n",
    "axis_font = {'fontname': 'Arial', 'size': '24'}\n",
    "Title_font = {'fontname': 'Arial', 'size': '28'}\n",
    "color = ['b', 'r', 'g', 'c', 'm', 'y', 'k']\n",
    "\n",
    "fig = plt.figure()\n",
    "\n",
    "ax = fig.add_subplot(1, 1, 1)\n",
    "ax.plot(X.iloc[np.array(data.label=='normal'), 0], X.iloc[np.array(data.label=='normal'), 1], 'k.', markersize=sizeMean, color=color[0])\n",
    "ax.plot(X.iloc[np.array(data.label=='abnormal'), 0], X.iloc[np.array(data.label=='abnormal'), 1], 'k.', markersize=sizeMean,color=color[1])\n",
    "\n",
    "\n",
    "for i in range(N_gaussian):\n",
    "    # the sd with ellipses\n",
    "    # central point of the error ellipse\n",
    "    pos = [new_mu[i, 0], new_mu[i, 1]]\n",
    "\n",
    "    # for the angle we need the eigenvectors of the covariance matrix\n",
    "    w, ve = np.linalg.eig(new_cov[i, 0:2, 0:2])\n",
    "\n",
    "    # We pick the largest eigen value\n",
    "    order = w.argsort()[::-1]\n",
    "    w = w[order]\n",
    "    ve = ve[:, order]\n",
    "\n",
    "    # we compute the angle towards the eigen vector with the largest eigen value\n",
    "    thetaO = np.degrees(np.arctan(ve[1, 0] / ve[0, 0]))\n",
    "\n",
    "    # Compute the width and height of the ellipse based on the eigen values (ie the length of the vectors)\n",
    "    width, height = 2 * np.sqrt(w)\n",
    "\n",
    "    # making the ellipse\n",
    "    ellip = Ellipse(xy=pos, width=width, height=height, angle=thetaO)\n",
    "    ellip.set_alpha(0.5)\n",
    "    ellip.set_facecolor(color[i])\n",
    "\n",
    "    ax.add_artist(ellip)\n",
    "\n",
    "for label in (ax.get_xticklabels() + ax.get_yticklabels()):\n",
    "    label.set_fontname('Arial')\n",
    "    label.set_fontsize(text_size)\n",
    "ax.spines['right'].set_visible(False)\n",
    "ax.spines['top'].set_visible(False)\n",
    "ax.xaxis.set_ticks_position('bottom')\n",
    "ax.yaxis.set_ticks_position('left')\n",
    "ax.set_ylabel('X2', **axis_font)\n",
    "ax.set_xlabel('X1', **axis_font)\n",
    "ax.set_title('Novelty example', y=1.08, **Title_font)\n",
    "ax.figure.set_size_inches(plotsize, plotsize)\n",
    "\n",
    "plt.show()"
   ]
  },
  {
   "cell_type": "code",
   "execution_count": 1164,
   "metadata": {
    "collapsed": true
   },
   "outputs": [],
   "source": [
    "score = list()\n",
    "for i in range(10):\n",
    "    novelty = [new_w[g] * sc.stats.multivariate_normal.pdf(\n",
    "        X.iloc[i, :], new_mu[g, :], new_cov[g, :, :]) for g in range(N_gaussian)]\n",
    "    score.append(1/np.sum(novelty))"
   ]
  },
  {
   "cell_type": "code",
   "execution_count": 1165,
   "metadata": {},
   "outputs": [
    {
     "data": {
      "text/html": [
       "<div>\n",
       "<style>\n",
       "    .dataframe thead tr:only-child th {\n",
       "        text-align: right;\n",
       "    }\n",
       "\n",
       "    .dataframe thead th {\n",
       "        text-align: left;\n",
       "    }\n",
       "\n",
       "    .dataframe tbody tr th {\n",
       "        vertical-align: top;\n",
       "    }\n",
       "</style>\n",
       "<table border=\"1\" class=\"dataframe\">\n",
       "  <thead>\n",
       "    <tr style=\"text-align: right;\">\n",
       "      <th></th>\n",
       "      <th>x1</th>\n",
       "      <th>x2</th>\n",
       "      <th>label</th>\n",
       "      <th>Novelty score</th>\n",
       "    </tr>\n",
       "  </thead>\n",
       "  <tbody>\n",
       "    <tr>\n",
       "      <th>0</th>\n",
       "      <td>5.4</td>\n",
       "      <td>3.9</td>\n",
       "      <td>abnormal</td>\n",
       "      <td>16.141871</td>\n",
       "    </tr>\n",
       "    <tr>\n",
       "      <th>1</th>\n",
       "      <td>6.6</td>\n",
       "      <td>2.9</td>\n",
       "      <td>normal</td>\n",
       "      <td>-0.394478</td>\n",
       "    </tr>\n",
       "    <tr>\n",
       "      <th>2</th>\n",
       "      <td>4.6</td>\n",
       "      <td>3.1</td>\n",
       "      <td>normal</td>\n",
       "      <td>0.464040</td>\n",
       "    </tr>\n",
       "    <tr>\n",
       "      <th>3</th>\n",
       "      <td>6.3</td>\n",
       "      <td>2.5</td>\n",
       "      <td>normal</td>\n",
       "      <td>-0.200547</td>\n",
       "    </tr>\n",
       "    <tr>\n",
       "      <th>4</th>\n",
       "      <td>6.7</td>\n",
       "      <td>3.3</td>\n",
       "      <td>normal</td>\n",
       "      <td>0.502637</td>\n",
       "    </tr>\n",
       "    <tr>\n",
       "      <th>5</th>\n",
       "      <td>4.6</td>\n",
       "      <td>3.4</td>\n",
       "      <td>normal</td>\n",
       "      <td>0.973989</td>\n",
       "    </tr>\n",
       "    <tr>\n",
       "      <th>6</th>\n",
       "      <td>4.9</td>\n",
       "      <td>3.1</td>\n",
       "      <td>normal</td>\n",
       "      <td>0.248448</td>\n",
       "    </tr>\n",
       "    <tr>\n",
       "      <th>7</th>\n",
       "      <td>6.3</td>\n",
       "      <td>2.3</td>\n",
       "      <td>normal</td>\n",
       "      <td>0.566527</td>\n",
       "    </tr>\n",
       "    <tr>\n",
       "      <th>8</th>\n",
       "      <td>6.5</td>\n",
       "      <td>3.0</td>\n",
       "      <td>normal</td>\n",
       "      <td>-0.510498</td>\n",
       "    </tr>\n",
       "    <tr>\n",
       "      <th>9</th>\n",
       "      <td>6.4</td>\n",
       "      <td>2.9</td>\n",
       "      <td>normal</td>\n",
       "      <td>-0.506506</td>\n",
       "    </tr>\n",
       "  </tbody>\n",
       "</table>\n",
       "</div>"
      ],
      "text/plain": [
       "    x1   x2     label  Novelty score\n",
       "0  5.4  3.9  abnormal      16.141871\n",
       "1  6.6  2.9    normal      -0.394478\n",
       "2  4.6  3.1    normal       0.464040\n",
       "3  6.3  2.5    normal      -0.200547\n",
       "4  6.7  3.3    normal       0.502637\n",
       "5  4.6  3.4    normal       0.973989\n",
       "6  4.9  3.1    normal       0.248448\n",
       "7  6.3  2.3    normal       0.566527\n",
       "8  6.5  3.0    normal      -0.510498\n",
       "9  6.4  2.9    normal      -0.506506"
      ]
     },
     "execution_count": 1165,
     "metadata": {},
     "output_type": "execute_result"
    }
   ],
   "source": [
    "pd.concat([X,data['label'],pd.DataFrame(np.log(score), columns=['Novelty score'])],axis=1)"
   ]
  }
 ],
 "metadata": {
  "anaconda-cloud": {},
  "kernelspec": {
   "display_name": "Python 3",
   "language": "python",
   "name": "python3"
  },
  "language_info": {
   "codemirror_mode": {
    "name": "ipython",
    "version": 3
   },
   "file_extension": ".py",
   "mimetype": "text/x-python",
   "name": "python",
   "nbconvert_exporter": "python",
   "pygments_lexer": "ipython3",
   "version": "3.6.1"
  },
  "toc": {
   "nav_menu": {},
   "number_sections": false,
   "sideBar": true,
   "skip_h1_title": false,
   "toc_cell": false,
   "toc_position": {
    "height": "702px",
    "left": "0px",
    "right": "1228px",
    "top": "106px",
    "width": "212px"
   },
   "toc_section_display": "block",
   "toc_window_display": false
  },
  "varInspector": {
   "cols": {
    "lenName": 16,
    "lenType": 16,
    "lenVar": 40
   },
   "kernels_config": {
    "python": {
     "delete_cmd_postfix": "",
     "delete_cmd_prefix": "del ",
     "library": "var_list.py",
     "varRefreshCmd": "print(var_dic_list())"
    },
    "r": {
     "delete_cmd_postfix": ") ",
     "delete_cmd_prefix": "rm(",
     "library": "var_list.r",
     "varRefreshCmd": "cat(var_dic_list()) "
    }
   },
   "position": {
    "height": "143px",
    "left": "881.1685180664063px",
    "right": "21.005435943603516px",
    "top": "15px",
    "width": "350px"
   },
   "types_to_exclude": [
    "module",
    "function",
    "builtin_function_or_method",
    "instance",
    "_Feature"
   ],
   "window_display": false
  }
 },
 "nbformat": 4,
 "nbformat_minor": 1
}
