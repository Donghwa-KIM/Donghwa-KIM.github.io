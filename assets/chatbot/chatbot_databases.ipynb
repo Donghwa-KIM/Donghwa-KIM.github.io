{
 "cells": [
  {
   "cell_type": "markdown",
   "metadata": {},
   "source": [
    "# Install MySQLdb"
   ]
  },
  {
   "cell_type": "markdown",
   "metadata": {},
   "source": [
    "```bash\n",
    " (tensorflow) ~$ sudo apt-get install python-dev libmysqlclient-dev\n",
    " \n",
    " (tensorflow) ~$ pip install mysqlclient\n",
    "\n",
    "```"
   ]
  },
  {
   "cell_type": "code",
   "execution_count": 260,
   "metadata": {},
   "outputs": [],
   "source": [
    "import MySQLdb\n",
    "import json\n",
    "import pandas as pd"
   ]
  },
  {
   "cell_type": "code",
   "execution_count": 261,
   "metadata": {},
   "outputs": [],
   "source": [
    "timeData = '2006_01'"
   ]
  },
  {
   "cell_type": "code",
   "execution_count": 262,
   "metadata": {},
   "outputs": [],
   "source": [
    "connection = MySQLdb.connect(host ='localhost',\n",
    "                     user='root',\n",
    "                     password='pwd')"
   ]
  },
  {
   "cell_type": "code",
   "execution_count": 263,
   "metadata": {},
   "outputs": [],
   "source": [
    "c = connection.cursor()"
   ]
  },
  {
   "cell_type": "markdown",
   "metadata": {},
   "source": [
    "# Database Creation"
   ]
  },
  {
   "cell_type": "code",
   "execution_count": 264,
   "metadata": {
    "scrolled": true
   },
   "outputs": [
    {
     "data": {
      "text/plain": [
       "'CREATE DATABASE 2006_01;'"
      ]
     },
     "execution_count": 264,
     "metadata": {},
     "output_type": "execute_result"
    }
   ],
   "source": [
    "\"CREATE DATABASE {};\".format(timeData)"
   ]
  },
  {
   "cell_type": "code",
   "execution_count": 265,
   "metadata": {
    "scrolled": false
   },
   "outputs": [
    {
     "data": {
      "text/plain": [
       "1"
      ]
     },
     "execution_count": 265,
     "metadata": {},
     "output_type": "execute_result"
    }
   ],
   "source": [
    "c.execute(\"CREATE DATABASE IF NOT EXISTS {};\".format(timeData))"
   ]
  },
  {
   "cell_type": "markdown",
   "metadata": {},
   "source": [
    "![Imgur](https://i.imgur.com/6VqnCjn.png?1)"
   ]
  },
  {
   "cell_type": "markdown",
   "metadata": {},
   "source": [
    "# Database Selection"
   ]
  },
  {
   "cell_type": "code",
   "execution_count": 266,
   "metadata": {
    "scrolled": true
   },
   "outputs": [
    {
     "data": {
      "text/plain": [
       "'USE 2006_01;'"
      ]
     },
     "execution_count": 266,
     "metadata": {},
     "output_type": "execute_result"
    }
   ],
   "source": [
    "\"USE {};\".format(timeData)"
   ]
  },
  {
   "cell_type": "code",
   "execution_count": 267,
   "metadata": {
    "scrolled": false
   },
   "outputs": [
    {
     "data": {
      "text/plain": [
       "0"
      ]
     },
     "execution_count": 267,
     "metadata": {},
     "output_type": "execute_result"
    }
   ],
   "source": [
    "c.execute(\"USE {};\".format(timeData))"
   ]
  },
  {
   "cell_type": "markdown",
   "metadata": {},
   "source": [
    "# DataTable Creation"
   ]
  },
  {
   "cell_type": "code",
   "execution_count": 268,
   "metadata": {},
   "outputs": [
    {
     "data": {
      "text/plain": [
       "0"
      ]
     },
     "execution_count": 268,
     "metadata": {},
     "output_type": "execute_result"
    }
   ],
   "source": [
    "c.execute(\n",
    "    \"CREATE TABLE IF NOT EXISTS question_answer(parent_id VARCHAR(10) , comment_id VARCHAR(10), parent TEXT, comment TEXT, subreddit TEXT, unix INT, score INT, PRIMARY KEY (parent_id), UNIQUE KEY(comment_id));\")"
   ]
  },
  {
   "cell_type": "markdown",
   "metadata": {},
   "source": [
    "![Imgur](https://i.imgur.com/tW1u4ig.png?1)"
   ]
  },
  {
   "cell_type": "code",
   "execution_count": 269,
   "metadata": {},
   "outputs": [],
   "source": [
    "# 데이터 하나하나 업로드하는 방식은 비효율적 따라서 아래의 방법을 적용\n",
    "sql_transaction = []\n",
    "# 읽어드이는 데이터량\n",
    "data_counter = 0\n",
    "# 실제로 추가되는 데이터량\n",
    "paired_data = 0\n",
    "# offset\n",
    "start_data = 0\n",
    "# Delete data where parent IS NULL\n",
    "cleanup = 1000000"
   ]
  },
  {
   "cell_type": "code",
   "execution_count": 270,
   "metadata": {},
   "outputs": [],
   "source": [
    "def transaction_bldr(sql):\n",
    "    # global: 함수에 local하게 적용되는 것이 아니라 함수 밖에 있는 sql_transaction울 불러옴; preserved the values\n",
    "    global sql_transaction\n",
    "    sql_transaction.append(sql)\n",
    "    if len(sql_transaction) > 1000:\n",
    "        c.execute('START TRANSACTION;')\n",
    "        for s in sql_transaction:\n",
    "            try:\n",
    "                c.execute(s)\n",
    "            except:\n",
    "                pass\n",
    "        # upload\n",
    "        connection.commit()\n",
    "        # initialize\n",
    "        sql_transaction = []"
   ]
  },
  {
   "cell_type": "markdown",
   "metadata": {},
   "source": [
    "# Data load from  external disk "
   ]
  },
  {
   "cell_type": "code",
   "execution_count": 271,
   "metadata": {
    "scrolled": false
   },
   "outputs": [
    {
     "data": {
      "text/plain": [
       "'/mnt/00B267E9B267E1A0/chatbot/2006/RC_2006-01'"
      ]
     },
     "execution_count": 271,
     "metadata": {},
     "output_type": "execute_result"
    }
   ],
   "source": [
    "'/mnt/00B267E9B267E1A0/chatbot/{}/RC_{}'.format(timeData.split('_')[0], timeData.replace('_','-'))"
   ]
  },
  {
   "cell_type": "code",
   "execution_count": 272,
   "metadata": {},
   "outputs": [],
   "source": [
    "with open('/mnt/00B267E9B267E1A0/chatbot/{}/RC_{}'.format(timeData.split('_')[0], timeData.replace('_','-')), buffering=2000000000) as f:\n",
    "    data = [json.loads(row) for row in f]"
   ]
  },
  {
   "cell_type": "code",
   "execution_count": 273,
   "metadata": {
    "scrolled": false
   },
   "outputs": [
    {
     "data": {
      "text/html": [
       "<div>\n",
       "<style scoped>\n",
       "    .dataframe tbody tr th:only-of-type {\n",
       "        vertical-align: middle;\n",
       "    }\n",
       "\n",
       "    .dataframe tbody tr th {\n",
       "        vertical-align: top;\n",
       "    }\n",
       "\n",
       "    .dataframe thead th {\n",
       "        text-align: right;\n",
       "    }\n",
       "</style>\n",
       "<table border=\"1\" class=\"dataframe\">\n",
       "  <thead>\n",
       "    <tr style=\"text-align: right;\">\n",
       "      <th></th>\n",
       "      <th>author</th>\n",
       "      <th>author_flair_css_class</th>\n",
       "      <th>author_flair_text</th>\n",
       "      <th>body</th>\n",
       "      <th>controversiality</th>\n",
       "      <th>created_utc</th>\n",
       "      <th>distinguished</th>\n",
       "      <th>edited</th>\n",
       "      <th>gilded</th>\n",
       "      <th>id</th>\n",
       "      <th>link_id</th>\n",
       "      <th>parent_id</th>\n",
       "      <th>retrieved_on</th>\n",
       "      <th>score</th>\n",
       "      <th>stickied</th>\n",
       "      <th>subreddit</th>\n",
       "      <th>subreddit_id</th>\n",
       "      <th>ups</th>\n",
       "    </tr>\n",
       "  </thead>\n",
       "  <tbody>\n",
       "    <tr>\n",
       "      <th>0</th>\n",
       "      <td>jh99</td>\n",
       "      <td>None</td>\n",
       "      <td>None</td>\n",
       "      <td>early 2006 a probable date</td>\n",
       "      <td>0</td>\n",
       "      <td>1136074029</td>\n",
       "      <td>None</td>\n",
       "      <td>False</td>\n",
       "      <td>0</td>\n",
       "      <td>c2715</td>\n",
       "      <td>t3_22569</td>\n",
       "      <td>t3_22569</td>\n",
       "      <td>1473821517</td>\n",
       "      <td>0</td>\n",
       "      <td>False</td>\n",
       "      <td>reddit.com</td>\n",
       "      <td>t5_6</td>\n",
       "      <td>0</td>\n",
       "    </tr>\n",
       "    <tr>\n",
       "      <th>1</th>\n",
       "      <td>jpb</td>\n",
       "      <td>None</td>\n",
       "      <td>None</td>\n",
       "      <td>If you are going to post something that has a ...</td>\n",
       "      <td>0</td>\n",
       "      <td>1136076410</td>\n",
       "      <td>None</td>\n",
       "      <td>False</td>\n",
       "      <td>0</td>\n",
       "      <td>c2717</td>\n",
       "      <td>t3_22542</td>\n",
       "      <td>t3_22542</td>\n",
       "      <td>1473821517</td>\n",
       "      <td>0</td>\n",
       "      <td>False</td>\n",
       "      <td>reddit.com</td>\n",
       "      <td>t5_6</td>\n",
       "      <td>0</td>\n",
       "    </tr>\n",
       "    <tr>\n",
       "      <th>2</th>\n",
       "      <td>Pichu0102</td>\n",
       "      <td>None</td>\n",
       "      <td>None</td>\n",
       "      <td>Microsoft hates it's own products?\\r\\nWho knew?</td>\n",
       "      <td>0</td>\n",
       "      <td>1136078623</td>\n",
       "      <td>None</td>\n",
       "      <td>False</td>\n",
       "      <td>0</td>\n",
       "      <td>c2718</td>\n",
       "      <td>t3_22515</td>\n",
       "      <td>t3_22515</td>\n",
       "      <td>1473821517</td>\n",
       "      <td>2</td>\n",
       "      <td>False</td>\n",
       "      <td>reddit.com</td>\n",
       "      <td>t5_6</td>\n",
       "      <td>2</td>\n",
       "    </tr>\n",
       "    <tr>\n",
       "      <th>3</th>\n",
       "      <td>libertas</td>\n",
       "      <td>None</td>\n",
       "      <td>None</td>\n",
       "      <td>this looks interesting, but it's already aired...</td>\n",
       "      <td>0</td>\n",
       "      <td>1136079346</td>\n",
       "      <td>None</td>\n",
       "      <td>False</td>\n",
       "      <td>0</td>\n",
       "      <td>c2719</td>\n",
       "      <td>t3_22528</td>\n",
       "      <td>t3_22528</td>\n",
       "      <td>1473821517</td>\n",
       "      <td>2</td>\n",
       "      <td>False</td>\n",
       "      <td>reddit.com</td>\n",
       "      <td>t5_6</td>\n",
       "      <td>2</td>\n",
       "    </tr>\n",
       "    <tr>\n",
       "      <th>4</th>\n",
       "      <td>mdmurray</td>\n",
       "      <td>None</td>\n",
       "      <td>None</td>\n",
       "      <td>I have nothing but good things to say about De...</td>\n",
       "      <td>0</td>\n",
       "      <td>1136081389</td>\n",
       "      <td>None</td>\n",
       "      <td>False</td>\n",
       "      <td>0</td>\n",
       "      <td>c2722</td>\n",
       "      <td>t3_22538</td>\n",
       "      <td>t3_22538</td>\n",
       "      <td>1473821517</td>\n",
       "      <td>0</td>\n",
       "      <td>False</td>\n",
       "      <td>reddit.com</td>\n",
       "      <td>t5_6</td>\n",
       "      <td>0</td>\n",
       "    </tr>\n",
       "  </tbody>\n",
       "</table>\n",
       "</div>"
      ],
      "text/plain": [
       "      author author_flair_css_class author_flair_text  \\\n",
       "0       jh99                   None              None   \n",
       "1        jpb                   None              None   \n",
       "2  Pichu0102                   None              None   \n",
       "3   libertas                   None              None   \n",
       "4   mdmurray                   None              None   \n",
       "\n",
       "                                                body  controversiality  \\\n",
       "0                         early 2006 a probable date                 0   \n",
       "1  If you are going to post something that has a ...                 0   \n",
       "2    Microsoft hates it's own products?\\r\\nWho knew?                 0   \n",
       "3  this looks interesting, but it's already aired...                 0   \n",
       "4  I have nothing but good things to say about De...                 0   \n",
       "\n",
       "   created_utc distinguished  edited  gilded     id   link_id parent_id  \\\n",
       "0   1136074029          None   False       0  c2715  t3_22569  t3_22569   \n",
       "1   1136076410          None   False       0  c2717  t3_22542  t3_22542   \n",
       "2   1136078623          None   False       0  c2718  t3_22515  t3_22515   \n",
       "3   1136079346          None   False       0  c2719  t3_22528  t3_22528   \n",
       "4   1136081389          None   False       0  c2722  t3_22538  t3_22538   \n",
       "\n",
       "   retrieved_on  score  stickied   subreddit subreddit_id  ups  \n",
       "0    1473821517      0     False  reddit.com         t5_6    0  \n",
       "1    1473821517      0     False  reddit.com         t5_6    0  \n",
       "2    1473821517      2     False  reddit.com         t5_6    2  \n",
       "3    1473821517      2     False  reddit.com         t5_6    2  \n",
       "4    1473821517      0     False  reddit.com         t5_6    0  "
      ]
     },
     "execution_count": 273,
     "metadata": {},
     "output_type": "execute_result"
    }
   ],
   "source": [
    "pd.DataFrame(data[0:5])"
   ]
  },
  {
   "cell_type": "code",
   "execution_count": 274,
   "metadata": {
    "scrolled": true
   },
   "outputs": [
    {
     "data": {
      "text/plain": [
       "{'author': 'libertas',\n",
       " 'author_flair_css_class': None,\n",
       " 'author_flair_text': None,\n",
       " 'body': \"this looks interesting, but it's already aired, and it's not like there's streaming video, so what's the point?\",\n",
       " 'controversiality': 0,\n",
       " 'created_utc': 1136079346,\n",
       " 'distinguished': None,\n",
       " 'edited': False,\n",
       " 'gilded': 0,\n",
       " 'id': 'c2719',\n",
       " 'link_id': 't3_22528',\n",
       " 'parent_id': 't3_22528',\n",
       " 'retrieved_on': 1473821517,\n",
       " 'score': 2,\n",
       " 'stickied': False,\n",
       " 'subreddit': 'reddit.com',\n",
       " 'subreddit_id': 't5_6',\n",
       " 'ups': 2}"
      ]
     },
     "execution_count": 274,
     "metadata": {},
     "output_type": "execute_result"
    }
   ],
   "source": [
    "example = data[3] \n",
    "example"
   ]
  },
  {
   "cell_type": "code",
   "execution_count": 275,
   "metadata": {},
   "outputs": [
    {
     "data": {
      "text/plain": [
       "'t3_22528'"
      ]
     },
     "execution_count": 275,
     "metadata": {},
     "output_type": "execute_result"
    }
   ],
   "source": [
    "parent_id = example['parent_id']\n",
    "parent_id"
   ]
  },
  {
   "cell_type": "code",
   "execution_count": 276,
   "metadata": {},
   "outputs": [
    {
     "data": {
      "text/plain": [
       "\"this looks interesting, but it's already aired, and it's not like there's streaming video, so what's the point?\""
      ]
     },
     "execution_count": 276,
     "metadata": {},
     "output_type": "execute_result"
    }
   ],
   "source": [
    "body = example['body'].replace('\\n', ' newlinechar ').replace('\\r', ' newlinechar ').replace('\"', \"'\")\n",
    "body"
   ]
  },
  {
   "cell_type": "code",
   "execution_count": 277,
   "metadata": {},
   "outputs": [
    {
     "data": {
      "text/plain": [
       "'c2719'"
      ]
     },
     "execution_count": 277,
     "metadata": {},
     "output_type": "execute_result"
    }
   ],
   "source": [
    "comment_id = example['id']\n",
    "comment_id"
   ]
  },
  {
   "cell_type": "code",
   "execution_count": 278,
   "metadata": {},
   "outputs": [
    {
     "data": {
      "text/plain": [
       "1136079346"
      ]
     },
     "execution_count": 278,
     "metadata": {},
     "output_type": "execute_result"
    }
   ],
   "source": [
    "created_utc = example['created_utc']\n",
    "created_utc"
   ]
  },
  {
   "cell_type": "code",
   "execution_count": 279,
   "metadata": {},
   "outputs": [
    {
     "data": {
      "text/plain": [
       "2"
      ]
     },
     "execution_count": 279,
     "metadata": {},
     "output_type": "execute_result"
    }
   ],
   "source": [
    "score = example['score']\n",
    "score"
   ]
  },
  {
   "cell_type": "code",
   "execution_count": 280,
   "metadata": {
    "scrolled": true
   },
   "outputs": [
    {
     "data": {
      "text/plain": [
       "'reddit.com'"
      ]
     },
     "execution_count": 280,
     "metadata": {},
     "output_type": "execute_result"
    }
   ],
   "source": [
    "subreddit = example['subreddit']\n",
    "subreddit"
   ]
  },
  {
   "cell_type": "markdown",
   "metadata": {},
   "source": [
    "# Searching previous data"
   ]
  },
  {
   "cell_type": "markdown",
   "metadata": {},
   "source": [
    "- We need to get parent body correponding to comment body\n",
    "- If exists parent_id in current DB then load to comment corresponding to it"
   ]
  },
  {
   "cell_type": "code",
   "execution_count": 281,
   "metadata": {},
   "outputs": [],
   "source": [
    "def find_parent(pid):\n",
    "    try:\n",
    "        # LIMIT 1 : 출력되는 데이터들의 첫번째 행을 가져옴\n",
    "        sql = \"SELECT comment FROM question_answer WHERE comment_id = '{}' LIMIT 1\".format(pid)\n",
    "        c.execute(sql)\n",
    "        result = c.fetchone()\n",
    "        if result != None:\n",
    "            return result[0]\n",
    "        else:\n",
    "            return False\n",
    "    except Exception as e:\n",
    "        # print(str(e))\n",
    "        return False"
   ]
  },
  {
   "cell_type": "code",
   "execution_count": 282,
   "metadata": {},
   "outputs": [
    {
     "data": {
      "text/plain": [
       "False"
      ]
     },
     "execution_count": 282,
     "metadata": {},
     "output_type": "execute_result"
    }
   ],
   "source": [
    "parent_data = find_parent(parent_id)\n",
    "parent_data"
   ]
  },
  {
   "cell_type": "markdown",
   "metadata": {},
   "source": [
    "- If exists parent_id in current DB then load to score corresponding to it"
   ]
  },
  {
   "cell_type": "code",
   "execution_count": 283,
   "metadata": {},
   "outputs": [],
   "source": [
    "def find_existing_score(pid):\n",
    "    try:\n",
    "        sql = \"SELECT score FROM question_answer WHERE parent_id = '{}' LIMIT 1\".format(pid)\n",
    "        c.execute(sql)\n",
    "        result = c.fetchone()\n",
    "        if result != None:\n",
    "            return result[0]\n",
    "        else:\n",
    "            return False\n",
    "    except Exception as e:\n",
    "        return False"
   ]
  },
  {
   "cell_type": "code",
   "execution_count": 284,
   "metadata": {
    "scrolled": true
   },
   "outputs": [
    {
     "data": {
      "text/plain": [
       "False"
      ]
     },
     "execution_count": 284,
     "metadata": {},
     "output_type": "execute_result"
    }
   ],
   "source": [
    "existing_comment_score = find_existing_score(parent_id)\n",
    "existing_comment_score"
   ]
  },
  {
   "cell_type": "markdown",
   "metadata": {},
   "source": [
    "- Body refined"
   ]
  },
  {
   "cell_type": "code",
   "execution_count": 285,
   "metadata": {},
   "outputs": [
    {
     "data": {
      "text/plain": [
       "True"
      ]
     },
     "execution_count": 285,
     "metadata": {},
     "output_type": "execute_result"
    }
   ],
   "source": [
    "def acceptable(data):\n",
    "    # token > 1000 이상 이거나 데이터가 없을 경우\n",
    "    if len(data.split(' ')) > 1000 or len(data) < 1:\n",
    "        return False\n",
    "    # 자소단위가 너무 많을 경우\n",
    "    elif len(data) > 32000:\n",
    "        return False\n",
    "    # 삭제표시 TEXT가 들어 있는 경우\n",
    "    elif data == '[deleted]':\n",
    "        return False\n",
    "    elif data == '[removed]':\n",
    "        return False\n",
    "    else:\n",
    "        return True\n",
    "    \n",
    "acceptable(body)"
   ]
  },
  {
   "cell_type": "markdown",
   "metadata": {},
   "source": [
    "- Insert new data\n",
    "- sql_transaction is going to be update when more than 1000"
   ]
  },
  {
   "cell_type": "code",
   "execution_count": 286,
   "metadata": {},
   "outputs": [],
   "source": [
    "def sql_insert_has_parent(commentid, parentid, parent, comment, subreddit, time, score):\n",
    "    try:\n",
    "        sql = \"\"\"INSERT INTO question_answer (parent_id, comment_id, parent, comment, subreddit, unix, score) VALUES (\"{}\",\"{}\",\"{}\",\"{}\",\"{}\",{},{});\"\"\".format(\n",
    "            parentid, commentid, parent, comment, subreddit, int(time), score)\n",
    "        transaction_bldr(sql)\n",
    "    except Exception as e:\n",
    "        print('s0 insertion', str(e))"
   ]
  },
  {
   "cell_type": "code",
   "execution_count": 293,
   "metadata": {},
   "outputs": [
    {
     "data": {
      "text/plain": [
       "'INSERT INTO question_answer (parent_id, comment_id, parent, comment, subreddit, unix, score) VALUES (\"t3_22528\",\"c2719\",\"False\",\"this looks interesting, but it\\'s already aired, and it\\'s not like there\\'s streaming video, so what\\'s the point?\",\"reddit.com\",1136079346,2);'"
      ]
     },
     "execution_count": 293,
     "metadata": {},
     "output_type": "execute_result"
    }
   ],
   "source": [
    "\"\"\"INSERT INTO question_answer (parent_id, comment_id, parent, comment, subreddit, unix, score) VALUES (\"{}\",\"{}\",\"{}\",\"{}\",\"{}\",{},{});\"\"\".format(\n",
    "            parent_id, comment_id , parent_data, body, subreddit, created_utc, score, parent_id)"
   ]
  },
  {
   "cell_type": "markdown",
   "metadata": {},
   "source": [
    "- Insert new data without parent_data\n",
    "- Comment body is necesssary for being parent_data"
   ]
  },
  {
   "cell_type": "code",
   "execution_count": 287,
   "metadata": {},
   "outputs": [],
   "source": [
    "def sql_insert_no_parent(commentid, parentid, comment, subreddit, time, score):\n",
    "    try:\n",
    "        sql = \"\"\"INSERT INTO question_answer (parent_id, comment_id, comment, subreddit, unix, score) VALUES (\"{}\",\"{}\",\"{}\",\"{}\",{},{});\"\"\".format(\n",
    "            parentid, commentid, comment, subreddit, int(time), score)\n",
    "        transaction_bldr(sql)\n",
    "    except Exception as e:\n",
    "        print('s0 insertion', str(e))"
   ]
  },
  {
   "cell_type": "markdown",
   "metadata": {},
   "source": [
    " - If score is higher than before, update previous data"
   ]
  },
  {
   "cell_type": "code",
   "execution_count": 288,
   "metadata": {},
   "outputs": [],
   "source": [
    "def sql_insert_replace_comment(commentid, parentid, parent, comment, subreddit, time, score):\n",
    "    try:\n",
    "        # UPDATE DATA SET parent_id => what you want to change\n",
    "        sql = \"\"\"UPDATE question_answer SET parent_id = \"{}\", comment_id = \"{}\", parent = \"{}\", comment = \"{}\", subreddit = \"{}\", unix = \"{}\", score = \"{}\" WHERE parent_id = \"{}\";\"\"\".format(\n",
    "            parentid, commentid, parent, comment, subreddit, int(time), score, parentid)\n",
    "        transaction_bldr(sql)\n",
    "    except Exception as e:\n",
    "        print('s0 insertion', str(e))"
   ]
  },
  {
   "cell_type": "code",
   "execution_count": 289,
   "metadata": {},
   "outputs": [
    {
     "data": {
      "text/plain": [
       "'UPDATE question_answer SET parent_id = \"t3_22528\", comment_id = \"c2719\", parent = \"False\", comment = \"this looks interesting, but it\\'s already aired, and it\\'s not like there\\'s streaming video, so what\\'s the point?\", subreddit = \"reddit.com\", unix = \"1136079346\", score = \"2\" WHERE parent_id = \"t3_22528\";'"
      ]
     },
     "execution_count": 289,
     "metadata": {},
     "output_type": "execute_result"
    }
   ],
   "source": [
    "\"\"\"UPDATE question_answer SET parent_id = \"{}\", comment_id = \"{}\", parent = \"{}\", comment = \"{}\", subreddit = \"{}\", unix = \"{}\", score = \"{}\" WHERE parent_id = \"{}\";\"\"\".format(\n",
    "            parent_id, comment_id , parent_data, body, subreddit, created_utc, score, parent_id)"
   ]
  },
  {
   "cell_type": "code",
   "execution_count": 290,
   "metadata": {},
   "outputs": [],
   "source": [
    "if existing_comment_score:\n",
    "    if score > existing_comment_score:\n",
    "        # acceptable: 더 유효한 데이터를 뽑아내는 작업\n",
    "        if acceptable(body):\n",
    "            # 데이터 교체\n",
    "            sql_insert_replace_comment(comment_id, parent_id, parent_data, body, subreddit,\n",
    "                                       created_utc, score)\n",
    "# 불필요한 데이터를 전처리해서 정제시킴\n",
    "else:\n",
    "    # acceptable: 더 유효한 데이터를 뽑아내는 작업\n",
    "    if acceptable(body):\n",
    "        # if exist or not\n",
    "        if parent_data:\n",
    "            if score >= 2:\n",
    "                sql_insert_has_parent(comment_id, parent_id, parent_data, body, subreddit,\n",
    "                                      created_utc, score)\n",
    "                paired_data += 1\n",
    "        else:\n",
    "            # parent_data가 없어도 다른 정보들을 삽입\n",
    "            sql_insert_no_parent(comment_id, parent_id, body, subreddit, created_utc, score)"
   ]
  },
  {
   "cell_type": "markdown",
   "metadata": {},
   "source": [
    "- Print pregress\n",
    "- Delete null data "
   ]
  },
  {
   "cell_type": "markdown",
   "metadata": {},
   "source": [
    "# An example for executing sql_trainsaction"
   ]
  },
  {
   "cell_type": "code",
   "execution_count": 291,
   "metadata": {
    "scrolled": true
   },
   "outputs": [
    {
     "data": {
      "text/plain": [
       "['INSERT INTO question_answer (parent_id, comment_id, comment, subreddit, unix, score) VALUES (\"t3_22528\",\"c2719\",\"this looks interesting, but it\\'s already aired, and it\\'s not like there\\'s streaming video, so what\\'s the point?\",\"reddit.com\",1136079346,2);']"
      ]
     },
     "execution_count": 291,
     "metadata": {},
     "output_type": "execute_result"
    }
   ],
   "source": [
    "sql_transaction"
   ]
  },
  {
   "cell_type": "code",
   "execution_count": 292,
   "metadata": {},
   "outputs": [],
   "source": [
    "c.execute('START TRANSACTION;')\n",
    "for s in sql_transaction:\n",
    "    try:\n",
    "        c.execute(s)\n",
    "    except:\n",
    "        pass\n",
    "# upload\n",
    "connection.commit()"
   ]
  },
  {
   "cell_type": "markdown",
   "metadata": {},
   "source": [
    "![Imgur](https://i.imgur.com/Kjg7wms.png?1)"
   ]
  }
 ],
 "metadata": {
  "kernelspec": {
   "display_name": "tensorflow",
   "language": "python",
   "name": "tensorflow"
  },
  "language_info": {
   "codemirror_mode": {
    "name": "ipython",
    "version": 3
   },
   "file_extension": ".py",
   "mimetype": "text/x-python",
   "name": "python",
   "nbconvert_exporter": "python",
   "pygments_lexer": "ipython3",
   "version": "3.5.2"
  }
 },
 "nbformat": 4,
 "nbformat_minor": 2
}
